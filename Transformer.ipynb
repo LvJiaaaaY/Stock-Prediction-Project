{
  "cells": [
    {
      "cell_type": "markdown",
      "metadata": {
        "id": "view-in-github",
        "colab_type": "text"
      },
      "source": [
        "<a href=\"https://colab.research.google.com/github/LvJiaaaaY/Stock-Prediction-Project/blob/main/Transformer.ipynb\" target=\"_parent\"><img src=\"https://colab.research.google.com/assets/colab-badge.svg\" alt=\"Open In Colab\"/></a>"
      ]
    },
    {
      "cell_type": "code",
      "execution_count": 374,
      "metadata": {
        "id": "S4K7XPDl7z6H"
      },
      "outputs": [],
      "source": [
        "import math\n",
        "import numpy as np\n",
        "import tqdm\n",
        "import matplotlib.pyplot as plt\n",
        "import torch\n",
        "import torch.nn as nn\n",
        "\n",
        "\n",
        "from pandas_datareader import data as wb\n",
        "import yfinance as yfin\n",
        "yfin.pdr_override()"
      ]
    },
    {
      "cell_type": "code",
      "execution_count": 375,
      "metadata": {
        "colab": {
          "base_uri": "https://localhost:8080/"
        },
        "id": "nbhRyEfq73Rp",
        "outputId": "45c6959d-476b-45d8-aa30-39019f28d4bb"
      },
      "outputs": [
        {
          "output_type": "stream",
          "name": "stdout",
          "text": [
            "\r[*********************100%%**********************]  1 of 1 completed\n"
          ]
        }
      ],
      "source": [
        "# Parameter for data\n",
        "## Security code\n",
        "stock_code='GGB'\n",
        "## Start Date\n",
        "start_date='2015-08-17'\n",
        "## End Date\n",
        "end_date='2023-07-28'\n",
        "## Split ratio of train data and validation data\n",
        "train_rate=0.8\n",
        "## How many business days to see\n",
        "observation_period_num=60\n",
        "## How many business days to predict\n",
        "predict_period_num=1\n",
        "\n",
        "# Parameter for mdoel\n",
        "## Learning Rate\n",
        "lr=0.00005\n",
        "## Epoch Number\n",
        "epochs=100\n",
        "## Mini-Batch size\n",
        "batch_size=20\n",
        "## How many epochs to stop train if valid loss is not decreasing\n",
        "patience=20\n",
        "\n",
        "device = torch.device(\"cuda\" if torch.cuda.is_available() else \"cpu\")\n",
        "\n",
        "# Get data\n",
        "df=wb.DataReader(stock_code,start=start_date,end=end_date)\n"
      ]
    },
    {
      "cell_type": "code",
      "source": [
        "# Normalization\n",
        "mean_list=df.mean().values\n",
        "std_list=df.std().values\n",
        "df=(df-mean_list)/std_list\n",
        "df"
      ],
      "metadata": {
        "id": "9dvigH0N0xI_",
        "outputId": "47d1dfde-c293-42ab-976c-e306dd991771",
        "colab": {
          "base_uri": "https://localhost:8080/",
          "height": 454
        }
      },
      "execution_count": 376,
      "outputs": [
        {
          "output_type": "execute_result",
          "data": {
            "text/plain": [
              "                Open      High       Low     Close  Adj Close    Volume\n",
              "Date                                                                   \n",
              "2015-08-17 -1.764069 -1.757158 -1.731150 -1.738618  -1.534867 -1.331972\n",
              "2015-08-18 -1.748995 -1.764625 -1.731150 -1.761223  -1.551100 -0.910641\n",
              "2015-08-19 -1.771606 -1.794491 -1.784442 -1.806431  -1.583565 -1.209294\n",
              "2015-08-20 -1.809288 -1.824357 -1.799668 -1.806431  -1.583565 -1.173303\n",
              "2015-08-21 -1.846971 -1.876624 -1.837734 -1.866709  -1.626853 -0.873031\n",
              "...              ...       ...       ...       ...        ...       ...\n",
              "2023-07-21  1.501907  1.449363  1.527674  1.496034   2.199316 -1.015928\n",
              "2023-07-24  1.541474  1.629681  1.607612  1.685909   2.395513 -0.542547\n",
              "2023-07-25  1.802617  1.802158  1.863415  1.820404   2.534486  0.084012\n",
              "2023-07-26  1.850097  1.817838  1.879403  1.852050   2.567186 -0.673094\n",
              "2023-07-27  1.794703  1.731599  1.807458  1.741289   2.452737 -0.863863\n",
              "\n",
              "[2000 rows x 6 columns]"
            ],
            "text/html": [
              "\n",
              "  <div id=\"df-3565784d-a1cc-4dfb-a2d5-c91eeacc395f\" class=\"colab-df-container\">\n",
              "    <div>\n",
              "<style scoped>\n",
              "    .dataframe tbody tr th:only-of-type {\n",
              "        vertical-align: middle;\n",
              "    }\n",
              "\n",
              "    .dataframe tbody tr th {\n",
              "        vertical-align: top;\n",
              "    }\n",
              "\n",
              "    .dataframe thead th {\n",
              "        text-align: right;\n",
              "    }\n",
              "</style>\n",
              "<table border=\"1\" class=\"dataframe\">\n",
              "  <thead>\n",
              "    <tr style=\"text-align: right;\">\n",
              "      <th></th>\n",
              "      <th>Open</th>\n",
              "      <th>High</th>\n",
              "      <th>Low</th>\n",
              "      <th>Close</th>\n",
              "      <th>Adj Close</th>\n",
              "      <th>Volume</th>\n",
              "    </tr>\n",
              "    <tr>\n",
              "      <th>Date</th>\n",
              "      <th></th>\n",
              "      <th></th>\n",
              "      <th></th>\n",
              "      <th></th>\n",
              "      <th></th>\n",
              "      <th></th>\n",
              "    </tr>\n",
              "  </thead>\n",
              "  <tbody>\n",
              "    <tr>\n",
              "      <th>2015-08-17</th>\n",
              "      <td>-1.764069</td>\n",
              "      <td>-1.757158</td>\n",
              "      <td>-1.731150</td>\n",
              "      <td>-1.738618</td>\n",
              "      <td>-1.534867</td>\n",
              "      <td>-1.331972</td>\n",
              "    </tr>\n",
              "    <tr>\n",
              "      <th>2015-08-18</th>\n",
              "      <td>-1.748995</td>\n",
              "      <td>-1.764625</td>\n",
              "      <td>-1.731150</td>\n",
              "      <td>-1.761223</td>\n",
              "      <td>-1.551100</td>\n",
              "      <td>-0.910641</td>\n",
              "    </tr>\n",
              "    <tr>\n",
              "      <th>2015-08-19</th>\n",
              "      <td>-1.771606</td>\n",
              "      <td>-1.794491</td>\n",
              "      <td>-1.784442</td>\n",
              "      <td>-1.806431</td>\n",
              "      <td>-1.583565</td>\n",
              "      <td>-1.209294</td>\n",
              "    </tr>\n",
              "    <tr>\n",
              "      <th>2015-08-20</th>\n",
              "      <td>-1.809288</td>\n",
              "      <td>-1.824357</td>\n",
              "      <td>-1.799668</td>\n",
              "      <td>-1.806431</td>\n",
              "      <td>-1.583565</td>\n",
              "      <td>-1.173303</td>\n",
              "    </tr>\n",
              "    <tr>\n",
              "      <th>2015-08-21</th>\n",
              "      <td>-1.846971</td>\n",
              "      <td>-1.876624</td>\n",
              "      <td>-1.837734</td>\n",
              "      <td>-1.866709</td>\n",
              "      <td>-1.626853</td>\n",
              "      <td>-0.873031</td>\n",
              "    </tr>\n",
              "    <tr>\n",
              "      <th>...</th>\n",
              "      <td>...</td>\n",
              "      <td>...</td>\n",
              "      <td>...</td>\n",
              "      <td>...</td>\n",
              "      <td>...</td>\n",
              "      <td>...</td>\n",
              "    </tr>\n",
              "    <tr>\n",
              "      <th>2023-07-21</th>\n",
              "      <td>1.501907</td>\n",
              "      <td>1.449363</td>\n",
              "      <td>1.527674</td>\n",
              "      <td>1.496034</td>\n",
              "      <td>2.199316</td>\n",
              "      <td>-1.015928</td>\n",
              "    </tr>\n",
              "    <tr>\n",
              "      <th>2023-07-24</th>\n",
              "      <td>1.541474</td>\n",
              "      <td>1.629681</td>\n",
              "      <td>1.607612</td>\n",
              "      <td>1.685909</td>\n",
              "      <td>2.395513</td>\n",
              "      <td>-0.542547</td>\n",
              "    </tr>\n",
              "    <tr>\n",
              "      <th>2023-07-25</th>\n",
              "      <td>1.802617</td>\n",
              "      <td>1.802158</td>\n",
              "      <td>1.863415</td>\n",
              "      <td>1.820404</td>\n",
              "      <td>2.534486</td>\n",
              "      <td>0.084012</td>\n",
              "    </tr>\n",
              "    <tr>\n",
              "      <th>2023-07-26</th>\n",
              "      <td>1.850097</td>\n",
              "      <td>1.817838</td>\n",
              "      <td>1.879403</td>\n",
              "      <td>1.852050</td>\n",
              "      <td>2.567186</td>\n",
              "      <td>-0.673094</td>\n",
              "    </tr>\n",
              "    <tr>\n",
              "      <th>2023-07-27</th>\n",
              "      <td>1.794703</td>\n",
              "      <td>1.731599</td>\n",
              "      <td>1.807458</td>\n",
              "      <td>1.741289</td>\n",
              "      <td>2.452737</td>\n",
              "      <td>-0.863863</td>\n",
              "    </tr>\n",
              "  </tbody>\n",
              "</table>\n",
              "<p>2000 rows × 6 columns</p>\n",
              "</div>\n",
              "    <div class=\"colab-df-buttons\">\n",
              "\n",
              "  <div class=\"colab-df-container\">\n",
              "    <button class=\"colab-df-convert\" onclick=\"convertToInteractive('df-3565784d-a1cc-4dfb-a2d5-c91eeacc395f')\"\n",
              "            title=\"Convert this dataframe to an interactive table.\"\n",
              "            style=\"display:none;\">\n",
              "\n",
              "  <svg xmlns=\"http://www.w3.org/2000/svg\" height=\"24px\" viewBox=\"0 -960 960 960\">\n",
              "    <path d=\"M120-120v-720h720v720H120Zm60-500h600v-160H180v160Zm220 220h160v-160H400v160Zm0 220h160v-160H400v160ZM180-400h160v-160H180v160Zm440 0h160v-160H620v160ZM180-180h160v-160H180v160Zm440 0h160v-160H620v160Z\"/>\n",
              "  </svg>\n",
              "    </button>\n",
              "\n",
              "  <style>\n",
              "    .colab-df-container {\n",
              "      display:flex;\n",
              "      gap: 12px;\n",
              "    }\n",
              "\n",
              "    .colab-df-convert {\n",
              "      background-color: #E8F0FE;\n",
              "      border: none;\n",
              "      border-radius: 50%;\n",
              "      cursor: pointer;\n",
              "      display: none;\n",
              "      fill: #1967D2;\n",
              "      height: 32px;\n",
              "      padding: 0 0 0 0;\n",
              "      width: 32px;\n",
              "    }\n",
              "\n",
              "    .colab-df-convert:hover {\n",
              "      background-color: #E2EBFA;\n",
              "      box-shadow: 0px 1px 2px rgba(60, 64, 67, 0.3), 0px 1px 3px 1px rgba(60, 64, 67, 0.15);\n",
              "      fill: #174EA6;\n",
              "    }\n",
              "\n",
              "    .colab-df-buttons div {\n",
              "      margin-bottom: 4px;\n",
              "    }\n",
              "\n",
              "    [theme=dark] .colab-df-convert {\n",
              "      background-color: #3B4455;\n",
              "      fill: #D2E3FC;\n",
              "    }\n",
              "\n",
              "    [theme=dark] .colab-df-convert:hover {\n",
              "      background-color: #434B5C;\n",
              "      box-shadow: 0px 1px 3px 1px rgba(0, 0, 0, 0.15);\n",
              "      filter: drop-shadow(0px 1px 2px rgba(0, 0, 0, 0.3));\n",
              "      fill: #FFFFFF;\n",
              "    }\n",
              "  </style>\n",
              "\n",
              "    <script>\n",
              "      const buttonEl =\n",
              "        document.querySelector('#df-3565784d-a1cc-4dfb-a2d5-c91eeacc395f button.colab-df-convert');\n",
              "      buttonEl.style.display =\n",
              "        google.colab.kernel.accessAllowed ? 'block' : 'none';\n",
              "\n",
              "      async function convertToInteractive(key) {\n",
              "        const element = document.querySelector('#df-3565784d-a1cc-4dfb-a2d5-c91eeacc395f');\n",
              "        const dataTable =\n",
              "          await google.colab.kernel.invokeFunction('convertToInteractive',\n",
              "                                                    [key], {});\n",
              "        if (!dataTable) return;\n",
              "\n",
              "        const docLinkHtml = 'Like what you see? Visit the ' +\n",
              "          '<a target=\"_blank\" href=https://colab.research.google.com/notebooks/data_table.ipynb>data table notebook</a>'\n",
              "          + ' to learn more about interactive tables.';\n",
              "        element.innerHTML = '';\n",
              "        dataTable['output_type'] = 'display_data';\n",
              "        await google.colab.output.renderOutput(dataTable, element);\n",
              "        const docLink = document.createElement('div');\n",
              "        docLink.innerHTML = docLinkHtml;\n",
              "        element.appendChild(docLink);\n",
              "      }\n",
              "    </script>\n",
              "  </div>\n",
              "\n",
              "\n",
              "<div id=\"df-e7324195-f869-4f8b-a12d-745524822ded\">\n",
              "  <button class=\"colab-df-quickchart\" onclick=\"quickchart('df-e7324195-f869-4f8b-a12d-745524822ded')\"\n",
              "            title=\"Suggest charts.\"\n",
              "            style=\"display:none;\">\n",
              "\n",
              "<svg xmlns=\"http://www.w3.org/2000/svg\" height=\"24px\"viewBox=\"0 0 24 24\"\n",
              "     width=\"24px\">\n",
              "    <g>\n",
              "        <path d=\"M19 3H5c-1.1 0-2 .9-2 2v14c0 1.1.9 2 2 2h14c1.1 0 2-.9 2-2V5c0-1.1-.9-2-2-2zM9 17H7v-7h2v7zm4 0h-2V7h2v10zm4 0h-2v-4h2v4z\"/>\n",
              "    </g>\n",
              "</svg>\n",
              "  </button>\n",
              "\n",
              "<style>\n",
              "  .colab-df-quickchart {\n",
              "    background-color: #E8F0FE;\n",
              "    border: none;\n",
              "    border-radius: 50%;\n",
              "    cursor: pointer;\n",
              "    display: none;\n",
              "    fill: #1967D2;\n",
              "    height: 32px;\n",
              "    padding: 0 0 0 0;\n",
              "    width: 32px;\n",
              "  }\n",
              "\n",
              "  .colab-df-quickchart:hover {\n",
              "    background-color: #E2EBFA;\n",
              "    box-shadow: 0px 1px 2px rgba(60, 64, 67, 0.3), 0px 1px 3px 1px rgba(60, 64, 67, 0.15);\n",
              "    fill: #174EA6;\n",
              "  }\n",
              "\n",
              "  [theme=dark] .colab-df-quickchart {\n",
              "    background-color: #3B4455;\n",
              "    fill: #D2E3FC;\n",
              "  }\n",
              "\n",
              "  [theme=dark] .colab-df-quickchart:hover {\n",
              "    background-color: #434B5C;\n",
              "    box-shadow: 0px 1px 3px 1px rgba(0, 0, 0, 0.15);\n",
              "    filter: drop-shadow(0px 1px 2px rgba(0, 0, 0, 0.3));\n",
              "    fill: #FFFFFF;\n",
              "  }\n",
              "</style>\n",
              "\n",
              "  <script>\n",
              "    async function quickchart(key) {\n",
              "      const charts = await google.colab.kernel.invokeFunction(\n",
              "          'suggestCharts', [key], {});\n",
              "    }\n",
              "    (() => {\n",
              "      let quickchartButtonEl =\n",
              "        document.querySelector('#df-e7324195-f869-4f8b-a12d-745524822ded button');\n",
              "      quickchartButtonEl.style.display =\n",
              "        google.colab.kernel.accessAllowed ? 'block' : 'none';\n",
              "    })();\n",
              "  </script>\n",
              "</div>\n",
              "    </div>\n",
              "  </div>\n"
            ]
          },
          "metadata": {},
          "execution_count": 376
        }
      ]
    },
    {
      "cell_type": "code",
      "execution_count": 377,
      "metadata": {
        "colab": {
          "base_uri": "https://localhost:8080/"
        },
        "id": "CjvRrKQrSaUx",
        "outputId": "209a5558-73f6-4359-d127-26dc4e973831"
      },
      "outputs": [
        {
          "output_type": "stream",
          "name": "stdout",
          "text": [
            "train data： 1551\n",
            "valid data： 388\n"
          ]
        }
      ],
      "source": [
        "# Array initialization\n",
        "inout_data=[]\n",
        "\n",
        "# Put data in array\n",
        "for i in range(len(df)-observation_period_num-predict_period_num):\n",
        "  data=df.iloc[i:i+observation_period_num,4].values\n",
        "  label=df.iloc[i+predict_period_num:i+observation_period_num+predict_period_num,4].values\n",
        "  inout_data.append((data,label))\n",
        "inout_data=torch.FloatTensor(inout_data)\n",
        "\n",
        "train_data=inout_data[:int(np.shape(inout_data)[0]*train_rate)].to(device)\n",
        "valid_data=inout_data[int(np.shape(inout_data)[0]*train_rate):].to(device)\n",
        "\n",
        "print('train data：',np.shape(train_data)[0])\n",
        "print('valid data：',np.shape(valid_data)[0])"
      ]
    },
    {
      "cell_type": "code",
      "execution_count": 378,
      "metadata": {
        "id": "QtlvdH4-RbRw"
      },
      "outputs": [],
      "source": [
        "# Define a function for getting mini-batch\n",
        "def get_batch(source, i, batch_size):\n",
        "  seq_len=min(batch_size, len(source)-1-i)\n",
        "  data=source[i:i+seq_len]\n",
        "  input=torch.stack(torch.stack([item[0] for item in data]).chunk(observation_period_num,1))\n",
        "  target=torch.stack(torch.stack([item[1] for item in data]).chunk(observation_period_num,1))\n",
        "\n",
        "  return input, target"
      ]
    },
    {
      "cell_type": "code",
      "execution_count": 379,
      "metadata": {
        "id": "fzjHeCV_RdZa"
      },
      "outputs": [],
      "source": [
        "# Functions for positional encoding\n",
        "class PositionalEncoding(nn.Module):\n",
        "  def __init__(self,d_model,max_len=5000):\n",
        "    super().__init__()\n",
        "    self.dropout=nn.Dropout(p=0.1)\n",
        "    pe=torch.zeros(max_len, d_model)\n",
        "    position=torch.arange(0, max_len,dtype=torch.float).unsqueeze(1)\n",
        "    div_term=torch.exp(torch.arange(0,d_model, 2).float()*(-math.log(10000.0)/d_model))\n",
        "    pe[:,0::2]=torch.sin(position*div_term)\n",
        "    pe[:,1::2]=torch.cos(position*div_term)\n",
        "    pe=pe.unsqueeze(0).transpose(0,1)\n",
        "    self.register_buffer(\"pe\",pe)\n",
        "\n",
        "  def forward(self,x):\n",
        "    return self.dropout(x+self.pe[:np.shape(x)[0],:])"
      ]
    },
    {
      "cell_type": "code",
      "execution_count": 380,
      "metadata": {
        "id": "mzQkhlksRicP"
      },
      "outputs": [],
      "source": [
        "# Transformer model definition\n",
        "class TransformerModel(nn.Module):\n",
        "  def __init__(self,feature_size=250,num_layers=1,dropout=0.1):\n",
        "    super().__init__()\n",
        "    self.model_type='Transformer'\n",
        "    self.src_mask=None\n",
        "    self.device=torch.device(\"cuda\" if torch.cuda.is_available() else \"cpu\")\n",
        "    self.pos_encoder=PositionalEncoding(d_model=feature_size)\n",
        "    self.encoder_layer=nn.TransformerEncoderLayer(d_model=feature_size,nhead=10,dropout=dropout)\n",
        "    self.transformer_encoder=nn.TransformerEncoder(self.encoder_layer,num_layers=num_layers)\n",
        "    self.decoder=nn.Linear(feature_size,1)\n",
        "\n",
        "  def init_weights(self):\n",
        "    self.decoder.bias.data.zero_()\n",
        "    self.decoder.weight.data.uniform(-0.1,0.1)\n",
        "\n",
        "  def _generate_square_subsequent_mask(self,sz):\n",
        "    mask=(torch.triu(torch.ones(sz,sz))==1).transpose(0,1)\n",
        "    mask=mask.float().masked_fill(mask==0,float('-inf')).masked_fill(mask==1,float(0.0))\n",
        "    return mask\n",
        "\n",
        "  def forward(self,src):\n",
        "    if self.src_mask is None or self.src_mask.size(0)!=len(src):\n",
        "      device=self.device\n",
        "      mask=self._generate_square_subsequent_mask(len(src)).to(device)\n",
        "      self.src_mask=mask\n",
        "    src=self.pos_encoder(src)\n",
        "    output=self.transformer_encoder(src,self.src_mask)\n",
        "    output=self.decoder(output)\n",
        "    return output"
      ]
    },
    {
      "cell_type": "code",
      "execution_count": 381,
      "metadata": {
        "id": "16yIpYzqRo2O"
      },
      "outputs": [],
      "source": [
        "# Function for early stop of train if valid loss is not decreasing\n",
        "class EarlyStopping:\n",
        "    def __init__(self,patience=5):\n",
        "        self.patience=patience\n",
        "        self.counter=0\n",
        "        self.best_score=None\n",
        "        self.early_stop=False\n",
        "        self.val_loss_min=np.Inf\n",
        "\n",
        "    def __call__(self,val_loss,model):\n",
        "        score=(-val_loss)\n",
        "        if self.best_score is None:\n",
        "            self.best_score=score\n",
        "        elif score==self.patience:\n",
        "                self.early_stop=True\n",
        "        else:\n",
        "            self.best_score=score\n",
        "            self.counter=0"
      ]
    },
    {
      "cell_type": "code",
      "execution_count": 382,
      "metadata": {
        "colab": {
          "base_uri": "https://localhost:8080/",
          "height": 1000
        },
        "id": "4oeVKOCMRpsX",
        "outputId": "09668d1c-38ed-49ba-b4a8-eb6cf6623c6e"
      },
      "outputs": [
        {
          "output_type": "stream",
          "name": "stdout",
          "text": [
            " 10:epoch | 0.002488294 : train loss | 0.1012712 : valid loss\n",
            " 20:epoch | 0.001481191 : train loss | 0.07672565 : valid loss\n",
            " 30:epoch | 0.001206729 : train loss | 0.06894835 : valid loss\n",
            " 40:epoch | 0.001083175 : train loss | 0.06496822 : valid loss\n",
            " 50:epoch | 0.001016929 : train loss | 0.06454351 : valid loss\n",
            " 60:epoch | 0.0009735327 : train loss | 0.06332797 : valid loss\n",
            " 70:epoch | 0.0009340244 : train loss | 0.06395131 : valid loss\n",
            " 80:epoch | 0.0009221804 : train loss | 0.0631976 : valid loss\n",
            " 90:epoch | 0.0009088198 : train loss | 0.06477046 : valid loss\n",
            "100:epoch | 0.0009118273 : train loss | 0.06472793 : valid loss\n"
          ]
        },
        {
          "output_type": "display_data",
          "data": {
            "text/plain": [
              "<Figure size 640x480 with 1 Axes>"
            ],
            "image/png": "[encoded data removed]"
          },
          "metadata": {}
        },
        {
          "output_type": "display_data",
          "data": {
            "text/plain": [
              "<Figure size 640x480 with 1 Axes>"
            ],
            "image/png": "[encoded data removed]"
          },
          "metadata": {}
        }
      ],
      "source": [
        "model=TransformerModel().to(device)\n",
        "criterion=nn.MSELoss()\n",
        "\n",
        "optimizer=torch.optim.AdamW(model.parameters(),lr=lr)\n",
        "scheduler=torch.optim.lr_scheduler.StepLR(optimizer,1.0,gamma=0.95)\n",
        "earlystopping=EarlyStopping(patience)\n",
        "\n",
        "train_loss_list=[]\n",
        "valid_loss_list=[]\n",
        "\n",
        "for epoch in range(1,epochs+1):\n",
        "  # train\n",
        "  model.train()\n",
        "  total_loss_train=0.0\n",
        "  for batch, i in enumerate(range(0,len(train_data),batch_size)):\n",
        "    data,targets=get_batch(train_data,i,batch_size)\n",
        "    optimizer.zero_grad()\n",
        "    output=model(data)\n",
        "    loss=criterion(output,targets)\n",
        "    loss.backward()\n",
        "    optimizer.step()\n",
        "    total_loss_train+=loss.item()\n",
        "  scheduler.step()\n",
        "  total_loss_train=total_loss_train/len(train_data)\n",
        "\n",
        "  #valid\n",
        "  model.eval()\n",
        "  total_loss_valid=0.0\n",
        "  for i in range(0,len(valid_data),batch_size):\n",
        "    data,targets=get_batch(valid_data,i,batch_size)\n",
        "    output=model(data)\n",
        "    total_loss_valid+=len(data[0])*criterion(output, targets).cpu().item()\n",
        "  total_loss_valid=total_loss_valid/len(valid_data)\n",
        "\n",
        "  #etc\n",
        "  train_loss_list.append(total_loss_train)\n",
        "  valid_loss_list.append(total_loss_valid)\n",
        "  if epoch%10==0:\n",
        "    print(f'{epoch:3d}:epoch | {total_loss_train:5.7} : train loss | {total_loss_valid:5.7} : valid loss')\n",
        "  earlystopping((total_loss_valid),model)\n",
        "  if earlystopping.early_stop:\n",
        "    print(f'{epoch:3d}:epoch | {total_loss_train:5.7} : train loss | {total_loss_valid:5.7} : valid loss')\n",
        "    print(\"Early Stop\")\n",
        "    break\n",
        "\n",
        "plt.xlabel('epoch')\n",
        "plt.ylabel(R'train_loss')\n",
        "plt.plot(train_loss_list)\n",
        "plt.show()\n",
        "\n",
        "plt.xlabel('epoch')\n",
        "plt.ylabel('valid_loss')\n",
        "plt.plot(valid_loss_list)\n",
        "plt.show()"
      ]
    },
    {
      "cell_type": "code",
      "execution_count": 383,
      "metadata": {
        "id": "NWjFbwnDYv8G"
      },
      "outputs": [],
      "source": [
        "model.eval()\n",
        "result=torch.Tensor(0)\n",
        "actual=torch.Tensor(0)\n",
        "\n",
        "with torch.no_grad():\n",
        "  for i in range(0,len(valid_data)-1):\n",
        "    data,target=get_batch(valid_data,i,1)\n",
        "    output=model(data)\n",
        "    result=torch.cat((result, output[-1].view(-1).cpu()),0)\n",
        "    actual=torch.cat((actual,target[-1].view(-1).cpu()),0)\n",
        "\n"
      ]
    },
    {
      "cell_type": "markdown",
      "source": [
        "import matplotlib.pyplot as pyplot\n",
        "fig = pyplot.figure(1, figsize=(20, 5))\n",
        "fig.patch.set_facecolor('xkcd:white')\n",
        "pyplot.plot([k + 160 for k in range(238)],result[160:],color=\"red\")\n",
        "pyplot.title('Transformer Single variable')\n",
        "pyplot.plot(actual[:700],color=\"black\")\n",
        "pyplot.legend([\"prediction\", \"true\"], loc=\"upper left\")\n",
        "ymin, ymax = pyplot.ylim()\n",
        "pyplot.vlines(160, ymin, ymax, color=\"blue\", linestyles=\"dashed\", linewidth=2)\n",
        "pyplot.ylim(ymin, ymax)\n",
        "pyplot.xlabel(\"Periods\")\n",
        "pyplot.ylabel(\"Price\")\n",
        "pyplot.show()\n",
        "pyplot.close()"
      ],
      "metadata": {
        "id": "fAZMy2z0UbhM"
      }
    },
    {
      "cell_type": "code",
      "source": [
        "import pandas as pd\n",
        "\n",
        "\n",
        "result = np.array(result)\n",
        "result = pd.DataFrame(result)\n",
        "actual = np.array(actual)\n",
        "actual = pd.DataFrame(actual)\n",
        "\n",
        "import matplotlib.pyplot as pyplot\n",
        "fig = pyplot.figure(1, figsize=(8, 5))\n",
        "fig.patch.set_facecolor('xkcd:white')\n",
        "pyplot.plot(result,color=\"red\")\n",
        "pyplot.title('GGB 60days')\n",
        "pyplot.plot(actual,color=\"black\")\n",
        "pyplot.legend([\"prediction\", \"true\"], loc=\"upper left\")\n",
        "ymin, ymax = pyplot.ylim()\n",
        "#pyplot.vlines(250, ymin, ymax, color=\"blue\", linestyles=\"dashed\", linewidth=2)\n",
        "pyplot.ylim(ymin, ymax)\n",
        "pyplot.xlabel(\"Periods\")\n",
        "pyplot.ylabel(\"Price\")\n",
        "pyplot.show()\n",
        "pyplot.close()"
      ],
      "metadata": {
        "id": "i0ucqiJCTwHW",
        "outputId": "abb4b323-64a2-44ac-e211-d78a67b0143d",
        "colab": {
          "base_uri": "https://localhost:8080/",
          "height": 487
        }
      },
      "execution_count": 384,
      "outputs": [
        {
          "output_type": "display_data",
          "data": {
            "text/plain": [
              "<Figure size 800x500 with 1 Axes>"
            ],
            "image/png": "[encoded data removed]"
          },
          "metadata": {}
        }
      ]
    },
    {
      "cell_type": "code",
      "source": [
        "from sklearn import metrics\n",
        "\n",
        "print(metrics.mean_squared_error(actual, result))\n",
        "print(metrics.mean_absolute_error(actual, result))\n",
        "\n",
        "print(metrics.r2_score(actual, result))"
      ],
      "metadata": {
        "id": "3-4iUmD-UEe3",
        "outputId": "f75d0312-1279-40e1-e133-04f561bf9c13",
        "colab": {
          "base_uri": "https://localhost:8080/"
        }
      },
      "execution_count": 385,
      "outputs": [
        {
          "output_type": "stream",
          "name": "stdout",
          "text": [
            "0.08656003\n",
            "0.24247785\n",
            "0.6576723103331321\n"
          ]
        }
      ]
    }
  ],
  "metadata": {
    "colab": {
      "provenance": [],
      "mount_file_id": "1r4ugQF7K7gtAMYChsWqFHEl6ZFyJJJkW",
      "authorship_tag": "ABX9TyM8cp2DCu7Ab9HEcyj36oo5",
      "include_colab_link": true
    },
    "kernelspec": {
      "display_name": "Python 3",
      "name": "python3"
    },
    "language_info": {
      "name": "python"
    }
  },
  "nbformat": 4,
  "nbformat_minor": 0
}